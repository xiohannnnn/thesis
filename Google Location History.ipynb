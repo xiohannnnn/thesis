{
 "cells": [
  {
   "cell_type": "markdown",
   "metadata": {},
   "source": [
    "# Importing Libraries"
   ]
  },
  {
   "cell_type": "code",
   "execution_count": 102,
   "metadata": {
    "scrolled": true
   },
   "outputs": [],
   "source": [
    "import json\n",
    "import time\n",
    "import datetime\n",
    "import numpy as np\n",
    "import pandas as pd\n",
    "import matplotlib.pyplot as plt\n",
    "import seaborn as sns\n",
    "import warnings\n",
    "import geopy\n",
    "from geopy.distance import vincenty \n",
    "from matplotlib.collections import PatchCollection\n",
    "from IPython.display import Image\n",
    "warnings.filterwarnings('ignore')"
   ]
  },
  {
   "cell_type": "markdown",
   "metadata": {},
   "source": [
    "# Importing the JSON file"
   ]
  },
  {
   "cell_type": "code",
   "execution_count": 103,
   "metadata": {},
   "outputs": [],
   "source": [
    "with open('C:/Users/User/Desktop/LocationHistory.json', 'r') as fh:\n",
    "    data = json.loads(fh.read())\n",
    "data = data['locations']"
   ]
  },
  {
   "cell_type": "markdown",
   "metadata": {},
   "source": [
    "# Data-Preprocessing"
   ]
  },
  {
   "cell_type": "code",
   "execution_count": 104,
   "metadata": {},
   "outputs": [],
   "source": [
    "def get_normalized_activities(activities):\n",
    "    data = list()\n",
    "    for activity in activities:\n",
    "        temp = list()\n",
    "        for act in activity['activity']:\n",
    "            temp.append(act)\n",
    "        total = sum([value['confidence'] for value in temp])\n",
    "        temp = [{'type':value['type'],'confidence':value['confidence']/total} for value in temp]\n",
    "        data += temp\n",
    "    return data\n",
    "\n",
    "def get_date(time):\n",
    "    day = time.day\n",
    "    hour = time.hour\n",
    "\n",
    "    day_of_week = time.weekday()\n",
    "    day_of_week_index = [0,1,2,3,4,5,6]\n",
    "    day_of_week_name = ['Mon','Tues','Wed','Thurs','Fri','Sat','Sun']\n",
    "    index = day_of_week_index.index(day_of_week)\n",
    "    day_of_week = day_of_week_name[index]\n",
    "\n",
    "    year = time.year\n",
    "\n",
    "    month = time.month\n",
    "    month_index = [1,2,3,4,5,6,7,8,9,10,11,12]\n",
    "    month_name = ['Jan','Feb','March','April','May','June','July','Aug','Sep','Oct','Nov','Dec']\n",
    "    index = month_index.index(month)\n",
    "    month = month_name[index]\n",
    "    \n",
    "    return {'day':day, 'hour':hour,'day_of_week':day_of_week, 'month':month, 'year':year}\n",
    "\n",
    "def remove_wrong_data(data):\n",
    "    degrees_to_radians = np.pi/180.0\n",
    "    data_new = list()\n",
    "    for index in range(len(data)):\n",
    "        longitude = data[index]['longitudeE7']/float(1e7)\n",
    "        if longitude > 101.77 and longitude < 101.8:\n",
    "            data_new.append(data[index])\n",
    "    return data_new\n",
    "\n",
    "def get_data(data):\n",
    "    data = remove_wrong_data(data)\n",
    "    data = sorted(data,key = lambda x: x['timestampMs'])\n",
    "    for index in range(len(data)):\n",
    "        data[index]['latitudeE7']  = data[index]['latitudeE7']/float(1e7)\n",
    "        data[index]['longitudeE7'] = data[index]['longitudeE7']/float(1e7)\n",
    "        data[index]['timestampMs'] = float(data[index]['timestampMs'])/1000\n",
    "        data[index]['datetime'] = datetime.datetime.fromtimestamp(data[index]['timestampMs'])\n",
    "        dates = get_date(data[index]['datetime'])\n",
    "        data[index]['day'] = dates['day']\n",
    "        data[index]['day_of_week'] = dates['day_of_week']\n",
    "        data[index]['month'] = dates['month']\n",
    "        data[index]['year'] = dates['year']\n",
    "        data[index]['hour'] = dates['hour']\n",
    "        if 'activity' in data[index].keys():\n",
    "            data[index]['activity'] = get_normalized_activities(data[index]['activity'])\n",
    "        if index != 0:\n",
    "            lat1 = data[index-1]['latitudeE7']\n",
    "            lat2 = data[index]['latitudeE7']\n",
    "            long1 = data[index-1]['longitudeE7']\n",
    "            long2 = data[index]['longitudeE7']\n",
    "            coords_1 = (lat1,long2)\n",
    "            coords_2 = (lat2,long2)\n",
    "            data[index]['distance'] = vincenty(coords_1,coords_2).km\n",
    "    del data[0]\n",
    "    return data\n",
    "\n",
    "def get_new_data(data):\n",
    "    data_new = list()\n",
    "    for dictionary in data:\n",
    "        if 'activity' in dictionary.keys() and dictionary['accuracy'] > 0 and dictionary['accuracy'] < 1000:\n",
    "            for activity in dictionary['activity']:\n",
    "                data_new.append({\n",
    "                    'latitude':dictionary['latitudeE7'],\n",
    "                    'longitude':dictionary['longitudeE7'],\n",
    "                    'accuracy':dictionary['accuracy'],\n",
    "                    'type':activity['type'],\n",
    "                    'confidence':activity['confidence'],\n",
    "                    'day':dictionary['day'],\n",
    "                    'hour':dictionary['hour'],\n",
    "                    'day_of_week':dictionary['day_of_week'],\n",
    "                    'month':dictionary['month'],\n",
    "                    'year':dictionary['year'],\n",
    "                    'distance':dictionary['distance'],\n",
    "                    'normalized_distance':dictionary['distance'] * activity['confidence']\n",
    "                })\n",
    "    return data_new\n",
    "\n",
    "city = {\n",
    "    'fst':{\n",
    "        'latitude':2.922,\n",
    "        'longitude':101.78\n",
    "    },\n",
    "    'kkm':{\n",
    "        'latitude':2.927,\n",
    "        'longitude':101.79\n",
    "    },\n",
    "    'ptsl':{\n",
    "        'latitude':2.926,\n",
    "        'longitude':101.78\n",
    "    },\n",
    "    \n",
    "}\n",
    "def get_city(latitude):\n",
    "    latitude = int(latitude)\n",
    "    if latitude < 3:\n",
    "        return 'FST'\n",
    "   \n",
    "    else:\n",
    "        return 'Other'\n"
   ]
  },
  {
   "cell_type": "code",
   "execution_count": 105,
   "metadata": {},
   "outputs": [],
   "source": [
    "data = get_data(data)\n",
    "data = get_new_data(data)\n",
    "data = pd.DataFrame(data)\n",
    "data = data[data.distance.notnull()]\n",
    "data['city'] = data.latitude.apply(lambda x: get_city(x))\n"
   ]
  },
  {
   "cell_type": "markdown",
   "metadata": {},
   "source": [
    "Let's pickle the file so that we can start directly without re-running the pre-processing steps every time we run the Jupyter Notebook"
   ]
  },
  {
   "cell_type": "code",
   "execution_count": 106,
   "metadata": {},
   "outputs": [],
   "source": [
    "import pickle\n",
    "pickle_out = open(\"data.sav\",\"wb\")\n",
    "pickle.dump(data, pickle_out)\n",
    "pickle_out.close()"
   ]
  },
  {
   "cell_type": "code",
   "execution_count": 107,
   "metadata": {},
   "outputs": [],
   "source": [
    "import pickle\n",
    "pickle_in = open(\"data.sav\",\"rb\")\n",
    "data = pickle.load(pickle_in)"
   ]
  },
  {
   "cell_type": "code",
   "execution_count": 108,
   "metadata": {
    "scrolled": false
   },
   "outputs": [
    {
     "data": {
      "text/html": [
       "<div>\n",
       "<style scoped>\n",
       "    .dataframe tbody tr th:only-of-type {\n",
       "        vertical-align: middle;\n",
       "    }\n",
       "\n",
       "    .dataframe tbody tr th {\n",
       "        vertical-align: top;\n",
       "    }\n",
       "\n",
       "    .dataframe thead th {\n",
       "        text-align: right;\n",
       "    }\n",
       "</style>\n",
       "<table border=\"1\" class=\"dataframe\">\n",
       "  <thead>\n",
       "    <tr style=\"text-align: right;\">\n",
       "      <th></th>\n",
       "      <th>accuracy</th>\n",
       "      <th>confidence</th>\n",
       "      <th>day</th>\n",
       "      <th>day_of_week</th>\n",
       "      <th>distance</th>\n",
       "      <th>hour</th>\n",
       "      <th>latitude</th>\n",
       "      <th>longitude</th>\n",
       "      <th>month</th>\n",
       "      <th>normalized_distance</th>\n",
       "      <th>type</th>\n",
       "      <th>year</th>\n",
       "      <th>city</th>\n",
       "    </tr>\n",
       "  </thead>\n",
       "  <tbody>\n",
       "    <tr>\n",
       "      <th>0</th>\n",
       "      <td>26</td>\n",
       "      <td>1.000000</td>\n",
       "      <td>31</td>\n",
       "      <td>Fri</td>\n",
       "      <td>0.000000</td>\n",
       "      <td>12</td>\n",
       "      <td>2.926829</td>\n",
       "      <td>101.789103</td>\n",
       "      <td>March</td>\n",
       "      <td>0.000000</td>\n",
       "      <td>STILL</td>\n",
       "      <td>2017</td>\n",
       "      <td>FST</td>\n",
       "    </tr>\n",
       "    <tr>\n",
       "      <th>1</th>\n",
       "      <td>23</td>\n",
       "      <td>0.770000</td>\n",
       "      <td>4</td>\n",
       "      <td>Tues</td>\n",
       "      <td>0.030708</td>\n",
       "      <td>19</td>\n",
       "      <td>3.424959</td>\n",
       "      <td>101.795257</td>\n",
       "      <td>July</td>\n",
       "      <td>0.023645</td>\n",
       "      <td>STILL</td>\n",
       "      <td>2017</td>\n",
       "      <td>Other</td>\n",
       "    </tr>\n",
       "    <tr>\n",
       "      <th>2</th>\n",
       "      <td>26</td>\n",
       "      <td>1.000000</td>\n",
       "      <td>31</td>\n",
       "      <td>Fri</td>\n",
       "      <td>0.025588</td>\n",
       "      <td>12</td>\n",
       "      <td>2.926829</td>\n",
       "      <td>101.789103</td>\n",
       "      <td>March</td>\n",
       "      <td>0.025588</td>\n",
       "      <td>TILTING</td>\n",
       "      <td>2017</td>\n",
       "      <td>FST</td>\n",
       "    </tr>\n",
       "    <tr>\n",
       "      <th>3</th>\n",
       "      <td>300</td>\n",
       "      <td>0.510000</td>\n",
       "      <td>4</td>\n",
       "      <td>Tues</td>\n",
       "      <td>0.069366</td>\n",
       "      <td>18</td>\n",
       "      <td>3.423978</td>\n",
       "      <td>101.795646</td>\n",
       "      <td>July</td>\n",
       "      <td>0.035377</td>\n",
       "      <td>IN_VEHICLE</td>\n",
       "      <td>2017</td>\n",
       "      <td>Other</td>\n",
       "    </tr>\n",
       "    <tr>\n",
       "      <th>4</th>\n",
       "      <td>24</td>\n",
       "      <td>0.150000</td>\n",
       "      <td>31</td>\n",
       "      <td>Fri</td>\n",
       "      <td>0.051286</td>\n",
       "      <td>12</td>\n",
       "      <td>2.926828</td>\n",
       "      <td>101.789192</td>\n",
       "      <td>March</td>\n",
       "      <td>0.007693</td>\n",
       "      <td>IN_VEHICLE</td>\n",
       "      <td>2017</td>\n",
       "      <td>FST</td>\n",
       "    </tr>\n",
       "    <tr>\n",
       "      <th>5</th>\n",
       "      <td>500</td>\n",
       "      <td>0.032432</td>\n",
       "      <td>24</td>\n",
       "      <td>Sun</td>\n",
       "      <td>0.618956</td>\n",
       "      <td>9</td>\n",
       "      <td>2.929095</td>\n",
       "      <td>101.788168</td>\n",
       "      <td>Dec</td>\n",
       "      <td>0.020074</td>\n",
       "      <td>STILL</td>\n",
       "      <td>2017</td>\n",
       "      <td>FST</td>\n",
       "    </tr>\n",
       "    <tr>\n",
       "      <th>6</th>\n",
       "      <td>22</td>\n",
       "      <td>0.070968</td>\n",
       "      <td>5</td>\n",
       "      <td>Wed</td>\n",
       "      <td>0.018080</td>\n",
       "      <td>9</td>\n",
       "      <td>3.424151</td>\n",
       "      <td>101.794967</td>\n",
       "      <td>July</td>\n",
       "      <td>0.001283</td>\n",
       "      <td>IN_VEHICLE</td>\n",
       "      <td>2017</td>\n",
       "      <td>Other</td>\n",
       "    </tr>\n",
       "    <tr>\n",
       "      <th>7</th>\n",
       "      <td>500</td>\n",
       "      <td>1.000000</td>\n",
       "      <td>24</td>\n",
       "      <td>Sun</td>\n",
       "      <td>0.618956</td>\n",
       "      <td>9</td>\n",
       "      <td>2.929095</td>\n",
       "      <td>101.788168</td>\n",
       "      <td>Dec</td>\n",
       "      <td>0.618956</td>\n",
       "      <td>TILTING</td>\n",
       "      <td>2017</td>\n",
       "      <td>FST</td>\n",
       "    </tr>\n",
       "    <tr>\n",
       "      <th>8</th>\n",
       "      <td>60</td>\n",
       "      <td>0.005181</td>\n",
       "      <td>20</td>\n",
       "      <td>Tues</td>\n",
       "      <td>0.418645</td>\n",
       "      <td>13</td>\n",
       "      <td>2.857369</td>\n",
       "      <td>101.787543</td>\n",
       "      <td>Feb</td>\n",
       "      <td>0.002169</td>\n",
       "      <td>IN_ROAD_VEHICLE</td>\n",
       "      <td>2018</td>\n",
       "      <td>FST</td>\n",
       "    </tr>\n",
       "    <tr>\n",
       "      <th>9</th>\n",
       "      <td>300</td>\n",
       "      <td>0.074766</td>\n",
       "      <td>4</td>\n",
       "      <td>Tues</td>\n",
       "      <td>0.340935</td>\n",
       "      <td>18</td>\n",
       "      <td>3.423978</td>\n",
       "      <td>101.795646</td>\n",
       "      <td>July</td>\n",
       "      <td>0.025490</td>\n",
       "      <td>UNKNOWN</td>\n",
       "      <td>2017</td>\n",
       "      <td>Other</td>\n",
       "    </tr>\n",
       "  </tbody>\n",
       "</table>\n",
       "</div>"
      ],
      "text/plain": [
       "   accuracy  confidence  day day_of_week  distance  hour  latitude  \\\n",
       "0        26    1.000000   31         Fri  0.000000    12  2.926829   \n",
       "1        23    0.770000    4        Tues  0.030708    19  3.424959   \n",
       "2        26    1.000000   31         Fri  0.025588    12  2.926829   \n",
       "3       300    0.510000    4        Tues  0.069366    18  3.423978   \n",
       "4        24    0.150000   31         Fri  0.051286    12  2.926828   \n",
       "5       500    0.032432   24         Sun  0.618956     9  2.929095   \n",
       "6        22    0.070968    5         Wed  0.018080     9  3.424151   \n",
       "7       500    1.000000   24         Sun  0.618956     9  2.929095   \n",
       "8        60    0.005181   20        Tues  0.418645    13  2.857369   \n",
       "9       300    0.074766    4        Tues  0.340935    18  3.423978   \n",
       "\n",
       "    longitude  month  normalized_distance             type  year   city  \n",
       "0  101.789103  March             0.000000            STILL  2017    FST  \n",
       "1  101.795257   July             0.023645            STILL  2017  Other  \n",
       "2  101.789103  March             0.025588          TILTING  2017    FST  \n",
       "3  101.795646   July             0.035377       IN_VEHICLE  2017  Other  \n",
       "4  101.789192  March             0.007693       IN_VEHICLE  2017    FST  \n",
       "5  101.788168    Dec             0.020074            STILL  2017    FST  \n",
       "6  101.794967   July             0.001283       IN_VEHICLE  2017  Other  \n",
       "7  101.788168    Dec             0.618956          TILTING  2017    FST  \n",
       "8  101.787543    Feb             0.002169  IN_ROAD_VEHICLE  2018    FST  \n",
       "9  101.795646   July             0.025490          UNKNOWN  2017  Other  "
      ]
     },
     "execution_count": 108,
     "metadata": {},
     "output_type": "execute_result"
    }
   ],
   "source": [
    "data.sample(10).reset_index(drop = True)"
   ]
  },
  {
   "cell_type": "code",
   "execution_count": 109,
   "metadata": {
    "scrolled": true
   },
   "outputs": [
    {
     "data": {
      "text/html": [
       "<div>\n",
       "<style scoped>\n",
       "    .dataframe tbody tr th:only-of-type {\n",
       "        vertical-align: middle;\n",
       "    }\n",
       "\n",
       "    .dataframe tbody tr th {\n",
       "        vertical-align: top;\n",
       "    }\n",
       "\n",
       "    .dataframe thead th {\n",
       "        text-align: right;\n",
       "    }\n",
       "</style>\n",
       "<table border=\"1\" class=\"dataframe\">\n",
       "  <thead>\n",
       "    <tr style=\"text-align: right;\">\n",
       "      <th></th>\n",
       "      <th>accuracy</th>\n",
       "      <th>confidence</th>\n",
       "      <th>day</th>\n",
       "      <th>distance</th>\n",
       "      <th>hour</th>\n",
       "      <th>latitude</th>\n",
       "      <th>longitude</th>\n",
       "      <th>normalized_distance</th>\n",
       "      <th>year</th>\n",
       "    </tr>\n",
       "  </thead>\n",
       "  <tbody>\n",
       "    <tr>\n",
       "      <th>count</th>\n",
       "      <td>583.000000</td>\n",
       "      <td>583.000000</td>\n",
       "      <td>583.000000</td>\n",
       "      <td>583.000000</td>\n",
       "      <td>583.000000</td>\n",
       "      <td>583.000000</td>\n",
       "      <td>583.000000</td>\n",
       "      <td>583.000000</td>\n",
       "      <td>583.000000</td>\n",
       "    </tr>\n",
       "    <tr>\n",
       "      <th>mean</th>\n",
       "      <td>168.569468</td>\n",
       "      <td>0.313894</td>\n",
       "      <td>16.543739</td>\n",
       "      <td>0.530332</td>\n",
       "      <td>13.526587</td>\n",
       "      <td>3.087950</td>\n",
       "      <td>101.789987</td>\n",
       "      <td>0.215593</td>\n",
       "      <td>2016.869640</td>\n",
       "    </tr>\n",
       "    <tr>\n",
       "      <th>std</th>\n",
       "      <td>272.537752</td>\n",
       "      <td>0.326777</td>\n",
       "      <td>11.010042</td>\n",
       "      <td>1.699708</td>\n",
       "      <td>4.281611</td>\n",
       "      <td>0.244500</td>\n",
       "      <td>0.004834</td>\n",
       "      <td>1.063960</td>\n",
       "      <td>0.483566</td>\n",
       "    </tr>\n",
       "    <tr>\n",
       "      <th>min</th>\n",
       "      <td>3.000000</td>\n",
       "      <td>0.005076</td>\n",
       "      <td>3.000000</td>\n",
       "      <td>0.000000</td>\n",
       "      <td>8.000000</td>\n",
       "      <td>2.820991</td>\n",
       "      <td>101.772367</td>\n",
       "      <td>0.000000</td>\n",
       "      <td>2016.000000</td>\n",
       "    </tr>\n",
       "    <tr>\n",
       "      <th>25%</th>\n",
       "      <td>23.000000</td>\n",
       "      <td>0.056738</td>\n",
       "      <td>4.000000</td>\n",
       "      <td>0.007105</td>\n",
       "      <td>10.000000</td>\n",
       "      <td>2.926561</td>\n",
       "      <td>101.787481</td>\n",
       "      <td>0.000965</td>\n",
       "      <td>2017.000000</td>\n",
       "    </tr>\n",
       "    <tr>\n",
       "      <th>50%</th>\n",
       "      <td>30.000000</td>\n",
       "      <td>0.180000</td>\n",
       "      <td>20.000000</td>\n",
       "      <td>0.037276</td>\n",
       "      <td>12.000000</td>\n",
       "      <td>2.929095</td>\n",
       "      <td>101.789232</td>\n",
       "      <td>0.005805</td>\n",
       "      <td>2017.000000</td>\n",
       "    </tr>\n",
       "    <tr>\n",
       "      <th>75%</th>\n",
       "      <td>110.000000</td>\n",
       "      <td>0.470232</td>\n",
       "      <td>28.000000</td>\n",
       "      <td>0.175265</td>\n",
       "      <td>18.000000</td>\n",
       "      <td>3.424141</td>\n",
       "      <td>101.794940</td>\n",
       "      <td>0.031973</td>\n",
       "      <td>2017.000000</td>\n",
       "    </tr>\n",
       "    <tr>\n",
       "      <th>max</th>\n",
       "      <td>980.000000</td>\n",
       "      <td>1.000000</td>\n",
       "      <td>31.000000</td>\n",
       "      <td>12.075458</td>\n",
       "      <td>23.000000</td>\n",
       "      <td>3.425644</td>\n",
       "      <td>101.799323</td>\n",
       "      <td>8.263118</td>\n",
       "      <td>2018.000000</td>\n",
       "    </tr>\n",
       "  </tbody>\n",
       "</table>\n",
       "</div>"
      ],
      "text/plain": [
       "         accuracy  confidence         day    distance        hour    latitude  \\\n",
       "count  583.000000  583.000000  583.000000  583.000000  583.000000  583.000000   \n",
       "mean   168.569468    0.313894   16.543739    0.530332   13.526587    3.087950   \n",
       "std    272.537752    0.326777   11.010042    1.699708    4.281611    0.244500   \n",
       "min      3.000000    0.005076    3.000000    0.000000    8.000000    2.820991   \n",
       "25%     23.000000    0.056738    4.000000    0.007105   10.000000    2.926561   \n",
       "50%     30.000000    0.180000   20.000000    0.037276   12.000000    2.929095   \n",
       "75%    110.000000    0.470232   28.000000    0.175265   18.000000    3.424141   \n",
       "max    980.000000    1.000000   31.000000   12.075458   23.000000    3.425644   \n",
       "\n",
       "        longitude  normalized_distance         year  \n",
       "count  583.000000           583.000000   583.000000  \n",
       "mean   101.789987             0.215593  2016.869640  \n",
       "std      0.004834             1.063960     0.483566  \n",
       "min    101.772367             0.000000  2016.000000  \n",
       "25%    101.787481             0.000965  2017.000000  \n",
       "50%    101.789232             0.005805  2017.000000  \n",
       "75%    101.794940             0.031973  2017.000000  \n",
       "max    101.799323             8.263118  2018.000000  "
      ]
     },
     "execution_count": 109,
     "metadata": {},
     "output_type": "execute_result"
    }
   ],
   "source": [
    "data.describe()"
   ]
  },
  {
   "cell_type": "code",
   "execution_count": 110,
   "metadata": {
    "scrolled": true
   },
   "outputs": [
    {
     "data": {
      "image/png": "[encoded data removed]",
      "text/plain": [
       "<Figure size 432x288 with 1 Axes>"
      ]
     },
     "metadata": {
      "needs_background": "light"
     },
     "output_type": "display_data"
    }
   ],
   "source": [
    "sns.distplot(data.normalized_distance)\n",
    "plt.savefig('fig_normalized_distance.png', dpi = 300)\n",
    "plt.show()"
   ]
  },
  {
   "cell_type": "code",
   "execution_count": 111,
   "metadata": {},
   "outputs": [],
   "source": [
    "values = data.normalized_distance.values\n",
    "blocks = ['0_0.01','0.001-0.1','0.1-0.5','0.5-1','1-2','2-5','5-10','10-20','20-50','50-100','100+']\n",
    "block_values = [0,0,0,0,0,0,0,0,0,0,0]\n",
    "\n",
    "for value in values:\n",
    "    if value > 0 and value < 0.01:\n",
    "        block_values[0] += 1\n",
    "    if value > 0 and value < 0.1:\n",
    "        block_values[1] += 1\n",
    "    if value > 0.1 and value < 0.5:\n",
    "        block_values[2] += 1\n",
    "    elif value > 0.5 and value < 1:\n",
    "        block_values[3] += 1\n",
    "    elif value > 1 and value < 2:\n",
    "        block_values[4] += 1\n",
    "    elif value > 2 and value < 5:\n",
    "        block_values[5] += 1\n",
    "    elif value > 5 and value < 10:\n",
    "        block_values[6] += 1\n",
    "    elif value > 10 and value < 20:\n",
    "        block_values[7] += 1\n",
    "    elif value > 20 and value < 50:\n",
    "        block_values[8] += 1\n",
    "    elif value > 50 and value < 100:\n",
    "        block_values[9] += 1\n",
    "    elif value > 100:\n",
    "        block_values[10] += 1"
   ]
  },
  {
   "cell_type": "code",
   "execution_count": 112,
   "metadata": {},
   "outputs": [
    {
     "data": {
      "image/png": "[encoded data removed]",
      "text/plain": [
       "<Figure size 432x288 with 1 Axes>"
      ]
     },
     "metadata": {
      "needs_background": "light"
     },
     "output_type": "display_data"
    }
   ],
   "source": [
    "sns.barplot(x = blocks,y = block_values)\n",
    "plt.savefig('fig_bar_chart.png', dpi = 300)\n",
    "plt.show()"
   ]
  },
  {
   "cell_type": "code",
   "execution_count": 113,
   "metadata": {},
   "outputs": [],
   "source": [
    "data_low = data[data.normalized_distance < 1]\n",
    "data_large = data[data.normalized_distance > 1]"
   ]
  },
  {
   "cell_type": "code",
   "execution_count": 114,
   "metadata": {},
   "outputs": [
    {
     "data": {
      "image/png": "[encoded data removed]",
      "text/plain": [
       "<Figure size 432x288 with 1 Axes>"
      ]
     },
     "metadata": {
      "needs_background": "light"
     },
     "output_type": "display_data"
    }
   ],
   "source": [
    "sns.distplot(data_large.normalized_distance)\n",
    "plt.show()"
   ]
  },
  {
   "cell_type": "code",
   "execution_count": 115,
   "metadata": {},
   "outputs": [
    {
     "data": {
      "image/png": "[encoded data removed]",
      "text/plain": [
       "<Figure size 432x288 with 1 Axes>"
      ]
     },
     "metadata": {
      "needs_background": "light"
     },
     "output_type": "display_data"
    }
   ],
   "source": [
    "sns.distplot(data_low.normalized_distance)\n",
    "plt.show()"
   ]
  },
  {
   "cell_type": "markdown",
   "metadata": {},
   "source": [
    "# Geography"
   ]
  },
  {
   "cell_type": "code",
   "execution_count": 116,
   "metadata": {},
   "outputs": [
    {
     "data": {
      "image/png": "[encoded data removed]",
      "text/plain": [
       "<Figure size 432x288 with 1 Axes>"
      ]
     },
     "metadata": {
      "needs_background": "light"
     },
     "output_type": "display_data"
    }
   ],
   "source": [
    "temp = data_low[['city','normalized_distance']]\n",
    "temp = temp.groupby(['city']).sum().reset_index()\n",
    "sns.barplot(x=\"city\", y=\"normalized_distance\",data=temp)\n",
    "plt.savefig('city_wise_distance.png', dpi = 300)\n",
    "plt.show()"
   ]
  },
  {
   "cell_type": "code",
   "execution_count": 117,
   "metadata": {
    "scrolled": true
   },
   "outputs": [
    {
     "data": {
      "image/png": "[encoded data removed]",
      "text/plain": [
       "<Figure size 432x288 with 1 Axes>"
      ]
     },
     "metadata": {
      "needs_background": "light"
     },
     "output_type": "display_data"
    }
   ],
   "source": [
    "temp = data_low[['city','year','normalized_distance']]\n",
    "temp = temp.groupby(['city','year']).sum().reset_index()\n",
    "sns.barplot(x=\"city\", y=\"normalized_distance\",hue='year',data=temp)\n",
    "plt.savefig('city_year_wise_distance.png', dpi = 300)\n",
    "plt.show()"
   ]
  },
  {
   "cell_type": "markdown",
   "metadata": {},
   "source": [
    "# Day of week vs distance normalized"
   ]
  },
  {
   "cell_type": "code",
   "execution_count": 118,
   "metadata": {
    "scrolled": true
   },
   "outputs": [
    {
     "data": {
      "text/html": [
       "<div>\n",
       "<style scoped>\n",
       "    .dataframe tbody tr th:only-of-type {\n",
       "        vertical-align: middle;\n",
       "    }\n",
       "\n",
       "    .dataframe tbody tr th {\n",
       "        vertical-align: top;\n",
       "    }\n",
       "\n",
       "    .dataframe thead th {\n",
       "        text-align: right;\n",
       "    }\n",
       "</style>\n",
       "<table border=\"1\" class=\"dataframe\">\n",
       "  <thead>\n",
       "    <tr style=\"text-align: right;\">\n",
       "      <th></th>\n",
       "      <th>accuracy</th>\n",
       "      <th>confidence</th>\n",
       "      <th>day</th>\n",
       "      <th>day_of_week</th>\n",
       "      <th>distance</th>\n",
       "      <th>hour</th>\n",
       "      <th>latitude</th>\n",
       "      <th>longitude</th>\n",
       "      <th>month</th>\n",
       "      <th>normalized_distance</th>\n",
       "      <th>type</th>\n",
       "      <th>year</th>\n",
       "      <th>city</th>\n",
       "    </tr>\n",
       "  </thead>\n",
       "  <tbody>\n",
       "    <tr>\n",
       "      <th>167</th>\n",
       "      <td>22</td>\n",
       "      <td>0.330000</td>\n",
       "      <td>31</td>\n",
       "      <td>Fri</td>\n",
       "      <td>0.034146</td>\n",
       "      <td>12</td>\n",
       "      <td>2.927138</td>\n",
       "      <td>101.788836</td>\n",
       "      <td>March</td>\n",
       "      <td>0.011268</td>\n",
       "      <td>IN_VEHICLE</td>\n",
       "      <td>2017</td>\n",
       "      <td>FST</td>\n",
       "    </tr>\n",
       "    <tr>\n",
       "      <th>70</th>\n",
       "      <td>79</td>\n",
       "      <td>0.038095</td>\n",
       "      <td>28</td>\n",
       "      <td>Sun</td>\n",
       "      <td>0.054537</td>\n",
       "      <td>10</td>\n",
       "      <td>2.930341</td>\n",
       "      <td>101.786686</td>\n",
       "      <td>Aug</td>\n",
       "      <td>0.002078</td>\n",
       "      <td>ON_FOOT</td>\n",
       "      <td>2016</td>\n",
       "      <td>FST</td>\n",
       "    </tr>\n",
       "    <tr>\n",
       "      <th>303</th>\n",
       "      <td>24</td>\n",
       "      <td>0.118812</td>\n",
       "      <td>4</td>\n",
       "      <td>Tues</td>\n",
       "      <td>0.012130</td>\n",
       "      <td>19</td>\n",
       "      <td>3.425197</td>\n",
       "      <td>101.794767</td>\n",
       "      <td>July</td>\n",
       "      <td>0.001441</td>\n",
       "      <td>UNKNOWN</td>\n",
       "      <td>2017</td>\n",
       "      <td>Other</td>\n",
       "    </tr>\n",
       "    <tr>\n",
       "      <th>146</th>\n",
       "      <td>39</td>\n",
       "      <td>0.400000</td>\n",
       "      <td>31</td>\n",
       "      <td>Fri</td>\n",
       "      <td>0.004169</td>\n",
       "      <td>12</td>\n",
       "      <td>2.926559</td>\n",
       "      <td>101.789325</td>\n",
       "      <td>March</td>\n",
       "      <td>0.001668</td>\n",
       "      <td>UNKNOWN</td>\n",
       "      <td>2017</td>\n",
       "      <td>FST</td>\n",
       "    </tr>\n",
       "    <tr>\n",
       "      <th>521</th>\n",
       "      <td>699</td>\n",
       "      <td>0.037594</td>\n",
       "      <td>24</td>\n",
       "      <td>Sun</td>\n",
       "      <td>0.099000</td>\n",
       "      <td>9</td>\n",
       "      <td>2.924283</td>\n",
       "      <td>101.780334</td>\n",
       "      <td>Dec</td>\n",
       "      <td>0.003722</td>\n",
       "      <td>WALKING</td>\n",
       "      <td>2017</td>\n",
       "      <td>FST</td>\n",
       "    </tr>\n",
       "  </tbody>\n",
       "</table>\n",
       "</div>"
      ],
      "text/plain": [
       "     accuracy  confidence  day day_of_week  distance  hour  latitude  \\\n",
       "167        22    0.330000   31         Fri  0.034146    12  2.927138   \n",
       "70         79    0.038095   28         Sun  0.054537    10  2.930341   \n",
       "303        24    0.118812    4        Tues  0.012130    19  3.425197   \n",
       "146        39    0.400000   31         Fri  0.004169    12  2.926559   \n",
       "521       699    0.037594   24         Sun  0.099000     9  2.924283   \n",
       "\n",
       "      longitude  month  normalized_distance        type  year   city  \n",
       "167  101.788836  March             0.011268  IN_VEHICLE  2017    FST  \n",
       "70   101.786686    Aug             0.002078     ON_FOOT  2016    FST  \n",
       "303  101.794767   July             0.001441     UNKNOWN  2017  Other  \n",
       "146  101.789325  March             0.001668     UNKNOWN  2017    FST  \n",
       "521  101.780334    Dec             0.003722     WALKING  2017    FST  "
      ]
     },
     "execution_count": 118,
     "metadata": {},
     "output_type": "execute_result"
    }
   ],
   "source": [
    "data_low.sample(5)"
   ]
  },
  {
   "cell_type": "code",
   "execution_count": 119,
   "metadata": {
    "scrolled": true
   },
   "outputs": [
    {
     "ename": "ValueError",
     "evalue": "Length mismatch: Expected axis has 9 elements, new values have 42 elements",
     "output_type": "error",
     "traceback": [
      "\u001b[1;31m---------------------------------------------------------------------------\u001b[0m",
      "\u001b[1;31mValueError\u001b[0m                                Traceback (most recent call last)",
      "\u001b[1;32m<ipython-input-119-96efc757766f>\u001b[0m in \u001b[0;36m<module>\u001b[1;34m\u001b[0m\n\u001b[0;32m      5\u001b[0m     \u001b[1;32mfor\u001b[0m \u001b[0mj\u001b[0m \u001b[1;32min\u001b[0m \u001b[0mrange\u001b[0m\u001b[1;33m(\u001b[0m\u001b[1;36m6\u001b[0m\u001b[1;33m)\u001b[0m\u001b[1;33m:\u001b[0m\u001b[1;33m\u001b[0m\u001b[1;33m\u001b[0m\u001b[0m\n\u001b[0;32m      6\u001b[0m         \u001b[0mindexes\u001b[0m\u001b[1;33m.\u001b[0m\u001b[0mappend\u001b[0m\u001b[1;33m(\u001b[0m\u001b[0mindex\u001b[0m\u001b[1;33m[\u001b[0m\u001b[0mi\u001b[0m\u001b[1;33m]\u001b[0m\u001b[1;33m)\u001b[0m\u001b[1;33m\u001b[0m\u001b[1;33m\u001b[0m\u001b[0m\n\u001b[1;32m----> 7\u001b[1;33m \u001b[0mtemp\u001b[0m\u001b[1;33m.\u001b[0m\u001b[0mindex\u001b[0m \u001b[1;33m=\u001b[0m \u001b[0mindexes\u001b[0m\u001b[1;33m\u001b[0m\u001b[1;33m\u001b[0m\u001b[0m\n\u001b[0m\u001b[0;32m      8\u001b[0m \u001b[0mtemp\u001b[0m\u001b[1;33m.\u001b[0m\u001b[0msort_index\u001b[0m\u001b[1;33m(\u001b[0m\u001b[0minplace\u001b[0m\u001b[1;33m=\u001b[0m\u001b[1;32mTrue\u001b[0m\u001b[1;33m)\u001b[0m\u001b[1;33m\u001b[0m\u001b[1;33m\u001b[0m\u001b[0m\n\u001b[0;32m      9\u001b[0m \u001b[0msns\u001b[0m\u001b[1;33m.\u001b[0m\u001b[0mbarplot\u001b[0m\u001b[1;33m(\u001b[0m\u001b[0mx\u001b[0m\u001b[1;33m=\u001b[0m\u001b[1;34m\"day_of_week\"\u001b[0m\u001b[1;33m,\u001b[0m \u001b[0my\u001b[0m\u001b[1;33m=\u001b[0m\u001b[1;34m\"normalized_distance\"\u001b[0m\u001b[1;33m,\u001b[0m\u001b[0mhue\u001b[0m\u001b[1;33m=\u001b[0m\u001b[1;34m'year'\u001b[0m\u001b[1;33m,\u001b[0m\u001b[0mdata\u001b[0m\u001b[1;33m=\u001b[0m\u001b[0mtemp\u001b[0m\u001b[1;33m)\u001b[0m\u001b[1;33m\u001b[0m\u001b[1;33m\u001b[0m\u001b[0m\n",
      "\u001b[1;32m~\\Anaconda3\\lib\\site-packages\\pandas\\core\\generic.py\u001b[0m in \u001b[0;36m__setattr__\u001b[1;34m(self, name, value)\u001b[0m\n\u001b[0;32m   4387\u001b[0m         \u001b[1;32mtry\u001b[0m\u001b[1;33m:\u001b[0m\u001b[1;33m\u001b[0m\u001b[1;33m\u001b[0m\u001b[0m\n\u001b[0;32m   4388\u001b[0m             \u001b[0mobject\u001b[0m\u001b[1;33m.\u001b[0m\u001b[0m__getattribute__\u001b[0m\u001b[1;33m(\u001b[0m\u001b[0mself\u001b[0m\u001b[1;33m,\u001b[0m \u001b[0mname\u001b[0m\u001b[1;33m)\u001b[0m\u001b[1;33m\u001b[0m\u001b[1;33m\u001b[0m\u001b[0m\n\u001b[1;32m-> 4389\u001b[1;33m             \u001b[1;32mreturn\u001b[0m \u001b[0mobject\u001b[0m\u001b[1;33m.\u001b[0m\u001b[0m__setattr__\u001b[0m\u001b[1;33m(\u001b[0m\u001b[0mself\u001b[0m\u001b[1;33m,\u001b[0m \u001b[0mname\u001b[0m\u001b[1;33m,\u001b[0m \u001b[0mvalue\u001b[0m\u001b[1;33m)\u001b[0m\u001b[1;33m\u001b[0m\u001b[1;33m\u001b[0m\u001b[0m\n\u001b[0m\u001b[0;32m   4390\u001b[0m         \u001b[1;32mexcept\u001b[0m \u001b[0mAttributeError\u001b[0m\u001b[1;33m:\u001b[0m\u001b[1;33m\u001b[0m\u001b[1;33m\u001b[0m\u001b[0m\n\u001b[0;32m   4391\u001b[0m             \u001b[1;32mpass\u001b[0m\u001b[1;33m\u001b[0m\u001b[1;33m\u001b[0m\u001b[0m\n",
      "\u001b[1;32mpandas\\_libs\\properties.pyx\u001b[0m in \u001b[0;36mpandas._libs.properties.AxisProperty.__set__\u001b[1;34m()\u001b[0m\n",
      "\u001b[1;32m~\\Anaconda3\\lib\\site-packages\\pandas\\core\\generic.py\u001b[0m in \u001b[0;36m_set_axis\u001b[1;34m(self, axis, labels)\u001b[0m\n\u001b[0;32m    644\u001b[0m \u001b[1;33m\u001b[0m\u001b[0m\n\u001b[0;32m    645\u001b[0m     \u001b[1;32mdef\u001b[0m \u001b[0m_set_axis\u001b[0m\u001b[1;33m(\u001b[0m\u001b[0mself\u001b[0m\u001b[1;33m,\u001b[0m \u001b[0maxis\u001b[0m\u001b[1;33m,\u001b[0m \u001b[0mlabels\u001b[0m\u001b[1;33m)\u001b[0m\u001b[1;33m:\u001b[0m\u001b[1;33m\u001b[0m\u001b[1;33m\u001b[0m\u001b[0m\n\u001b[1;32m--> 646\u001b[1;33m         \u001b[0mself\u001b[0m\u001b[1;33m.\u001b[0m\u001b[0m_data\u001b[0m\u001b[1;33m.\u001b[0m\u001b[0mset_axis\u001b[0m\u001b[1;33m(\u001b[0m\u001b[0maxis\u001b[0m\u001b[1;33m,\u001b[0m \u001b[0mlabels\u001b[0m\u001b[1;33m)\u001b[0m\u001b[1;33m\u001b[0m\u001b[1;33m\u001b[0m\u001b[0m\n\u001b[0m\u001b[0;32m    647\u001b[0m         \u001b[0mself\u001b[0m\u001b[1;33m.\u001b[0m\u001b[0m_clear_item_cache\u001b[0m\u001b[1;33m(\u001b[0m\u001b[1;33m)\u001b[0m\u001b[1;33m\u001b[0m\u001b[1;33m\u001b[0m\u001b[0m\n\u001b[0;32m    648\u001b[0m \u001b[1;33m\u001b[0m\u001b[0m\n",
      "\u001b[1;32m~\\Anaconda3\\lib\\site-packages\\pandas\\core\\internals.py\u001b[0m in \u001b[0;36mset_axis\u001b[1;34m(self, axis, new_labels)\u001b[0m\n\u001b[0;32m   3321\u001b[0m             raise ValueError(\n\u001b[0;32m   3322\u001b[0m                 \u001b[1;34m'Length mismatch: Expected axis has {old} elements, new '\u001b[0m\u001b[1;33m\u001b[0m\u001b[1;33m\u001b[0m\u001b[0m\n\u001b[1;32m-> 3323\u001b[1;33m                 'values have {new} elements'.format(old=old_len, new=new_len))\n\u001b[0m\u001b[0;32m   3324\u001b[0m \u001b[1;33m\u001b[0m\u001b[0m\n\u001b[0;32m   3325\u001b[0m         \u001b[0mself\u001b[0m\u001b[1;33m.\u001b[0m\u001b[0maxes\u001b[0m\u001b[1;33m[\u001b[0m\u001b[0maxis\u001b[0m\u001b[1;33m]\u001b[0m \u001b[1;33m=\u001b[0m \u001b[0mnew_labels\u001b[0m\u001b[1;33m\u001b[0m\u001b[1;33m\u001b[0m\u001b[0m\n",
      "\u001b[1;31mValueError\u001b[0m: Length mismatch: Expected axis has 9 elements, new values have 42 elements"
     ]
    }
   ],
   "source": [
    "temp = data_low[['day_of_week','normalized_distance','year']].groupby(['day_of_week','year']).sum().reset_index()\n",
    "index = [5,1,6,7,4,2,3]\n",
    "indexes = list()\n",
    "for i in range(len(index)):\n",
    "    for j in range(6):\n",
    "        indexes.append(index[i])\n",
    "temp.index = indexes\n",
    "temp.sort_index(inplace=True)\n",
    "sns.barplot(x=\"day_of_week\", y=\"normalized_distance\",hue='year',data=temp)\n",
    "plt.savefig('fig2.png', dpi = 300)\n",
    "plt.show()"
   ]
  },
  {
   "cell_type": "markdown",
   "metadata": {},
   "source": [
    "# Year vs Distance Normalized"
   ]
  },
  {
   "cell_type": "code",
   "execution_count": 120,
   "metadata": {},
   "outputs": [
    {
     "data": {
      "image/png": "[encoded data removed]",
      "text/plain": [
       "<Figure size 432x288 with 1 Axes>"
      ]
     },
     "metadata": {
      "needs_background": "light"
     },
     "output_type": "display_data"
    }
   ],
   "source": [
    "temp = data_low[['year','normalized_distance']].groupby(['year']).sum().reset_index()\n",
    "sns.barplot(x=\"year\", y=\"normalized_distance\",data=temp)\n",
    "plt.show()"
   ]
  },
  {
   "cell_type": "markdown",
   "metadata": {},
   "source": [
    "# Year vs Distance Normalized"
   ]
  },
  {
   "cell_type": "code",
   "execution_count": 121,
   "metadata": {},
   "outputs": [
    {
     "data": {
      "image/png": "[encoded data removed]",
      "text/plain": [
       "<Figure size 432x288 with 1 Axes>"
      ]
     },
     "metadata": {
      "needs_background": "light"
     },
     "output_type": "display_data"
    }
   ],
   "source": [
    "temp = data_large[['year','normalized_distance']].groupby(['year']).sum().reset_index()\n",
    "data_large.sort_values(by = ['normalized_distance'],ascending=False)\n",
    "sns.barplot(x=\"year\", y=\"normalized_distance\",data=temp)\n",
    "plt.show()"
   ]
  },
  {
   "cell_type": "markdown",
   "metadata": {},
   "source": [
    "# Type vs Distance Normalized"
   ]
  },
  {
   "cell_type": "code",
   "execution_count": 122,
   "metadata": {},
   "outputs": [],
   "source": [
    "mapping_function = {\n",
    "    'TILTING':'others',\n",
    "    'STILL':'others',\n",
    "    'UNKNOWN':'others',\n",
    "    'IN_VEHICLE':'vehicle',\n",
    "    'IN_ROAD_VEHICLE':'vehicle',\n",
    "    'IN_RAIL_VEHICLE':'vehicle',\n",
    "    'IN_FOUR_WHEELER_VEHICLE':'vehicle',\n",
    "    'EXITING_VEHICLE':'vehicle',\n",
    "    'IN_TWO_WHEELER_VEHICLE':'vehicle',\n",
    "    'ON_FOOT':'walk',\n",
    "    'WALKING':'walk',\n",
    "    'ON_BICYCLE':'walk',\n",
    "    'RUNNING':'walk',\n",
    "}\n",
    "def travel_pattern(city_name):\n",
    "    temp = data_low[data_low.city == city_name]\n",
    "    temp = temp[['day_of_week','type','normalized_distance']]\n",
    "    temp.type = temp.type.map(mapping_function)\n",
    "    temp = temp.groupby(['day_of_week','type']).sum().reset_index(drop = False)\n",
    "    temp = temp[temp.type.isin(['vehicle','walk'])]\n",
    "    temp.index = [5,5,1,1,6,6,7,7,4,4,2,2,3,3]\n",
    "    temp = temp.sort_index().reset_index(drop = True)\n",
    "    sns.barplot(x='day_of_week', y='normalized_distance',hue='type',data = temp)\n",
    "    plt.title('Travel Pattern in ' + city_name)\n",
    "    plt.savefig(city_name + '.png', dpi = 300)\n",
    "    plt.show()\n",
    "    return "
   ]
  },
  {
   "cell_type": "code",
   "execution_count": 123,
   "metadata": {
    "scrolled": true
   },
   "outputs": [
    {
     "ename": "ValueError",
     "evalue": "Length mismatch: Expected axis has 12 elements, new values have 14 elements",
     "output_type": "error",
     "traceback": [
      "\u001b[1;31m---------------------------------------------------------------------------\u001b[0m",
      "\u001b[1;31mValueError\u001b[0m                                Traceback (most recent call last)",
      "\u001b[1;32m<ipython-input-123-fdde312b70ae>\u001b[0m in \u001b[0;36m<module>\u001b[1;34m\u001b[0m\n\u001b[1;32m----> 1\u001b[1;33m \u001b[0mtravel_pattern\u001b[0m\u001b[1;33m(\u001b[0m\u001b[1;34m'FST'\u001b[0m\u001b[1;33m)\u001b[0m\u001b[1;33m\u001b[0m\u001b[1;33m\u001b[0m\u001b[0m\n\u001b[0m",
      "\u001b[1;32m<ipython-input-122-2cc94daa3a35>\u001b[0m in \u001b[0;36mtravel_pattern\u001b[1;34m(city_name)\u001b[0m\n\u001b[0;32m     20\u001b[0m     \u001b[0mtemp\u001b[0m \u001b[1;33m=\u001b[0m \u001b[0mtemp\u001b[0m\u001b[1;33m.\u001b[0m\u001b[0mgroupby\u001b[0m\u001b[1;33m(\u001b[0m\u001b[1;33m[\u001b[0m\u001b[1;34m'day_of_week'\u001b[0m\u001b[1;33m,\u001b[0m\u001b[1;34m'type'\u001b[0m\u001b[1;33m]\u001b[0m\u001b[1;33m)\u001b[0m\u001b[1;33m.\u001b[0m\u001b[0msum\u001b[0m\u001b[1;33m(\u001b[0m\u001b[1;33m)\u001b[0m\u001b[1;33m.\u001b[0m\u001b[0mreset_index\u001b[0m\u001b[1;33m(\u001b[0m\u001b[0mdrop\u001b[0m \u001b[1;33m=\u001b[0m \u001b[1;32mFalse\u001b[0m\u001b[1;33m)\u001b[0m\u001b[1;33m\u001b[0m\u001b[1;33m\u001b[0m\u001b[0m\n\u001b[0;32m     21\u001b[0m     \u001b[0mtemp\u001b[0m \u001b[1;33m=\u001b[0m \u001b[0mtemp\u001b[0m\u001b[1;33m[\u001b[0m\u001b[0mtemp\u001b[0m\u001b[1;33m.\u001b[0m\u001b[0mtype\u001b[0m\u001b[1;33m.\u001b[0m\u001b[0misin\u001b[0m\u001b[1;33m(\u001b[0m\u001b[1;33m[\u001b[0m\u001b[1;34m'vehicle'\u001b[0m\u001b[1;33m,\u001b[0m\u001b[1;34m'walk'\u001b[0m\u001b[1;33m]\u001b[0m\u001b[1;33m)\u001b[0m\u001b[1;33m]\u001b[0m\u001b[1;33m\u001b[0m\u001b[1;33m\u001b[0m\u001b[0m\n\u001b[1;32m---> 22\u001b[1;33m     \u001b[0mtemp\u001b[0m\u001b[1;33m.\u001b[0m\u001b[0mindex\u001b[0m \u001b[1;33m=\u001b[0m \u001b[1;33m[\u001b[0m\u001b[1;36m5\u001b[0m\u001b[1;33m,\u001b[0m\u001b[1;36m5\u001b[0m\u001b[1;33m,\u001b[0m\u001b[1;36m1\u001b[0m\u001b[1;33m,\u001b[0m\u001b[1;36m1\u001b[0m\u001b[1;33m,\u001b[0m\u001b[1;36m6\u001b[0m\u001b[1;33m,\u001b[0m\u001b[1;36m6\u001b[0m\u001b[1;33m,\u001b[0m\u001b[1;36m7\u001b[0m\u001b[1;33m,\u001b[0m\u001b[1;36m7\u001b[0m\u001b[1;33m,\u001b[0m\u001b[1;36m4\u001b[0m\u001b[1;33m,\u001b[0m\u001b[1;36m4\u001b[0m\u001b[1;33m,\u001b[0m\u001b[1;36m2\u001b[0m\u001b[1;33m,\u001b[0m\u001b[1;36m2\u001b[0m\u001b[1;33m,\u001b[0m\u001b[1;36m3\u001b[0m\u001b[1;33m,\u001b[0m\u001b[1;36m3\u001b[0m\u001b[1;33m]\u001b[0m\u001b[1;33m\u001b[0m\u001b[1;33m\u001b[0m\u001b[0m\n\u001b[0m\u001b[0;32m     23\u001b[0m     \u001b[0mtemp\u001b[0m \u001b[1;33m=\u001b[0m \u001b[0mtemp\u001b[0m\u001b[1;33m.\u001b[0m\u001b[0msort_index\u001b[0m\u001b[1;33m(\u001b[0m\u001b[1;33m)\u001b[0m\u001b[1;33m.\u001b[0m\u001b[0mreset_index\u001b[0m\u001b[1;33m(\u001b[0m\u001b[0mdrop\u001b[0m \u001b[1;33m=\u001b[0m \u001b[1;32mTrue\u001b[0m\u001b[1;33m)\u001b[0m\u001b[1;33m\u001b[0m\u001b[1;33m\u001b[0m\u001b[0m\n\u001b[0;32m     24\u001b[0m     \u001b[0msns\u001b[0m\u001b[1;33m.\u001b[0m\u001b[0mbarplot\u001b[0m\u001b[1;33m(\u001b[0m\u001b[0mx\u001b[0m\u001b[1;33m=\u001b[0m\u001b[1;34m'day_of_week'\u001b[0m\u001b[1;33m,\u001b[0m \u001b[0my\u001b[0m\u001b[1;33m=\u001b[0m\u001b[1;34m'normalized_distance'\u001b[0m\u001b[1;33m,\u001b[0m\u001b[0mhue\u001b[0m\u001b[1;33m=\u001b[0m\u001b[1;34m'type'\u001b[0m\u001b[1;33m,\u001b[0m\u001b[0mdata\u001b[0m \u001b[1;33m=\u001b[0m \u001b[0mtemp\u001b[0m\u001b[1;33m)\u001b[0m\u001b[1;33m\u001b[0m\u001b[1;33m\u001b[0m\u001b[0m\n",
      "\u001b[1;32m~\\Anaconda3\\lib\\site-packages\\pandas\\core\\generic.py\u001b[0m in \u001b[0;36m__setattr__\u001b[1;34m(self, name, value)\u001b[0m\n\u001b[0;32m   4387\u001b[0m         \u001b[1;32mtry\u001b[0m\u001b[1;33m:\u001b[0m\u001b[1;33m\u001b[0m\u001b[1;33m\u001b[0m\u001b[0m\n\u001b[0;32m   4388\u001b[0m             \u001b[0mobject\u001b[0m\u001b[1;33m.\u001b[0m\u001b[0m__getattribute__\u001b[0m\u001b[1;33m(\u001b[0m\u001b[0mself\u001b[0m\u001b[1;33m,\u001b[0m \u001b[0mname\u001b[0m\u001b[1;33m)\u001b[0m\u001b[1;33m\u001b[0m\u001b[1;33m\u001b[0m\u001b[0m\n\u001b[1;32m-> 4389\u001b[1;33m             \u001b[1;32mreturn\u001b[0m \u001b[0mobject\u001b[0m\u001b[1;33m.\u001b[0m\u001b[0m__setattr__\u001b[0m\u001b[1;33m(\u001b[0m\u001b[0mself\u001b[0m\u001b[1;33m,\u001b[0m \u001b[0mname\u001b[0m\u001b[1;33m,\u001b[0m \u001b[0mvalue\u001b[0m\u001b[1;33m)\u001b[0m\u001b[1;33m\u001b[0m\u001b[1;33m\u001b[0m\u001b[0m\n\u001b[0m\u001b[0;32m   4390\u001b[0m         \u001b[1;32mexcept\u001b[0m \u001b[0mAttributeError\u001b[0m\u001b[1;33m:\u001b[0m\u001b[1;33m\u001b[0m\u001b[1;33m\u001b[0m\u001b[0m\n\u001b[0;32m   4391\u001b[0m             \u001b[1;32mpass\u001b[0m\u001b[1;33m\u001b[0m\u001b[1;33m\u001b[0m\u001b[0m\n",
      "\u001b[1;32mpandas\\_libs\\properties.pyx\u001b[0m in \u001b[0;36mpandas._libs.properties.AxisProperty.__set__\u001b[1;34m()\u001b[0m\n",
      "\u001b[1;32m~\\Anaconda3\\lib\\site-packages\\pandas\\core\\generic.py\u001b[0m in \u001b[0;36m_set_axis\u001b[1;34m(self, axis, labels)\u001b[0m\n\u001b[0;32m    644\u001b[0m \u001b[1;33m\u001b[0m\u001b[0m\n\u001b[0;32m    645\u001b[0m     \u001b[1;32mdef\u001b[0m \u001b[0m_set_axis\u001b[0m\u001b[1;33m(\u001b[0m\u001b[0mself\u001b[0m\u001b[1;33m,\u001b[0m \u001b[0maxis\u001b[0m\u001b[1;33m,\u001b[0m \u001b[0mlabels\u001b[0m\u001b[1;33m)\u001b[0m\u001b[1;33m:\u001b[0m\u001b[1;33m\u001b[0m\u001b[1;33m\u001b[0m\u001b[0m\n\u001b[1;32m--> 646\u001b[1;33m         \u001b[0mself\u001b[0m\u001b[1;33m.\u001b[0m\u001b[0m_data\u001b[0m\u001b[1;33m.\u001b[0m\u001b[0mset_axis\u001b[0m\u001b[1;33m(\u001b[0m\u001b[0maxis\u001b[0m\u001b[1;33m,\u001b[0m \u001b[0mlabels\u001b[0m\u001b[1;33m)\u001b[0m\u001b[1;33m\u001b[0m\u001b[1;33m\u001b[0m\u001b[0m\n\u001b[0m\u001b[0;32m    647\u001b[0m         \u001b[0mself\u001b[0m\u001b[1;33m.\u001b[0m\u001b[0m_clear_item_cache\u001b[0m\u001b[1;33m(\u001b[0m\u001b[1;33m)\u001b[0m\u001b[1;33m\u001b[0m\u001b[1;33m\u001b[0m\u001b[0m\n\u001b[0;32m    648\u001b[0m \u001b[1;33m\u001b[0m\u001b[0m\n",
      "\u001b[1;32m~\\Anaconda3\\lib\\site-packages\\pandas\\core\\internals.py\u001b[0m in \u001b[0;36mset_axis\u001b[1;34m(self, axis, new_labels)\u001b[0m\n\u001b[0;32m   3321\u001b[0m             raise ValueError(\n\u001b[0;32m   3322\u001b[0m                 \u001b[1;34m'Length mismatch: Expected axis has {old} elements, new '\u001b[0m\u001b[1;33m\u001b[0m\u001b[1;33m\u001b[0m\u001b[0m\n\u001b[1;32m-> 3323\u001b[1;33m                 'values have {new} elements'.format(old=old_len, new=new_len))\n\u001b[0m\u001b[0;32m   3324\u001b[0m \u001b[1;33m\u001b[0m\u001b[0m\n\u001b[0;32m   3325\u001b[0m         \u001b[0mself\u001b[0m\u001b[1;33m.\u001b[0m\u001b[0maxes\u001b[0m\u001b[1;33m[\u001b[0m\u001b[0maxis\u001b[0m\u001b[1;33m]\u001b[0m \u001b[1;33m=\u001b[0m \u001b[0mnew_labels\u001b[0m\u001b[1;33m\u001b[0m\u001b[1;33m\u001b[0m\u001b[0m\n",
      "\u001b[1;31mValueError\u001b[0m: Length mismatch: Expected axis has 12 elements, new values have 14 elements"
     ]
    }
   ],
   "source": [
    "travel_pattern('FST')"
   ]
  },
  {
   "cell_type": "markdown",
   "metadata": {},
   "source": [
    "# Bangalore"
   ]
  },
  {
   "cell_type": "code",
   "execution_count": null,
   "metadata": {},
   "outputs": [],
   "source": [
    "temp = data_low[data_low.city == 'Bangalore']\n",
    "temp = temp[temp.year == 2018]\n",
    "temp = temp[temp.month != 'Jan']\n",
    "temp.type = temp.type.map(mapping_function)\n",
    "temp = temp[['month','normalized_distance','type']]\n",
    "temp = temp.groupby(['month','type']).sum().reset_index(drop = False)\n",
    "temp = temp[temp.type != 'others']\n",
    "index = [8,7,6,11,10,9]\n",
    "indexes = list()\n",
    "for i in range(len(index)):\n",
    "    for j in range(2):\n",
    "        indexes.append(index[i])\n",
    "temp.index = indexes\n",
    "temp.sort_index(inplace = True)\n",
    "sns.barplot(x=\"month\", y=\"normalized_distance\",hue='type',data=temp)\n",
    "plt.title('Travel patterns in Bangalore')\n",
    "plt.savefig('Travel patterns in Bangalore.png', dpi = 300)\n",
    "plt.show()"
   ]
  },
  {
   "cell_type": "markdown",
   "metadata": {},
   "source": [
    "# Trivandrum"
   ]
  },
  {
   "cell_type": "code",
   "execution_count": null,
   "metadata": {},
   "outputs": [],
   "source": [
    "temp = data_low[data_low.city == 'Trivandrum']\n",
    "temp = temp[temp.year == 2018]\n",
    "temp.type = temp.type.map(mapping_function)\n",
    "temp = temp[['month','normalized_distance','type']]\n",
    "temp = temp.groupby(['month','type']).sum().reset_index(drop = False)\n",
    "temp = temp[temp.type != 'others']\n",
    "index = [4,2,1,6,3,5]\n",
    "indexes = list()\n",
    "for i in range(len(index)):\n",
    "    for j in range(2):\n",
    "        indexes.append(index[i])\n",
    "temp.index = indexes\n",
    "temp.sort_index(inplace = True)\n",
    "sns.barplot(x=\"month\", y=\"normalized_distance\",hue='type',data=temp)\n",
    "plt.title('Travel patterns in Trivandrum')\n",
    "plt.savefig('Travel patterns in Trivandrum.png', dpi = 300)\n",
    "plt.show()"
   ]
  },
  {
   "cell_type": "markdown",
   "metadata": {},
   "source": [
    "# Bangalore vs Trivandrum"
   ]
  },
  {
   "cell_type": "code",
   "execution_count": null,
   "metadata": {},
   "outputs": [],
   "source": [
    "def day_type_mapping(day):\n",
    "    if day in ['Sat','Sun']:\n",
    "        return 'Weekend'\n",
    "    return 'Weekday'"
   ]
  },
  {
   "cell_type": "code",
   "execution_count": null,
   "metadata": {},
   "outputs": [],
   "source": [
    "temp = data_low[data_low.city.isin(['Bangalore','Trivandrum'])]\n",
    "temp = temp[['day_of_week','type','normalized_distance','city']]\n",
    "temp.type = temp.type.map(mapping_function)\n",
    "temp = temp[temp.type == 'walk']\n",
    "temp = temp[['day_of_week','normalized_distance','city']]\n",
    "temp = temp.groupby(['day_of_week','city']).sum().reset_index()\n",
    "mean_bangalore = temp['normalized_distance'][temp.city == 'Bangalore'].sum()\n",
    "mean_trivandrum = temp['normalized_distance'][temp.city == 'Trivandrum'].sum()\n",
    "temp['normalized_distance'][temp.city == 'Bangalore'] = temp['normalized_distance'] / mean_bangalore\n",
    "temp['normalized_distance'][temp.city == 'Trivandrum'] = temp['normalized_distance'] / mean_trivandrum\n",
    "temp.sort_values(by = ['day_of_week'],inplace = True)\n",
    "temp.index = [5,5,1,1,6,6,7,7,4,4,2,2,3,3]\n",
    "temp.sort_index(inplace = True)\n",
    "sns.barplot(x=\"day_of_week\", y=\"normalized_distance\",hue='city',data=temp)\n",
    "plt.title('Walk pattern')\n",
    "plt.savefig('Walk.png', dpi = 300)\n",
    "plt.show()"
   ]
  },
  {
   "cell_type": "code",
   "execution_count": null,
   "metadata": {},
   "outputs": [],
   "source": [
    "temp = data_low[data_low.city.isin(['Bangalore','Trivandrum'])]\n",
    "temp = temp[['day_of_week','type','normalized_distance','city']]\n",
    "temp.type = temp.type.map(mapping_function)\n",
    "temp = temp[temp.type == 'vehicle']\n",
    "temp = temp[['day_of_week','normalized_distance','city']]\n",
    "temp = temp.groupby(['day_of_week','city']).sum().reset_index()\n",
    "mean_bangalore = temp['normalized_distance'][temp.city == 'Bangalore'].sum()\n",
    "mean_trivandrum = temp['normalized_distance'][temp.city == 'Trivandrum'].sum()\n",
    "temp['normalized_distance'][temp.city == 'Bangalore'] = temp['normalized_distance'] / mean_bangalore\n",
    "temp['normalized_distance'][temp.city == 'Trivandrum'] = temp['normalized_distance'] / mean_trivandrum\n",
    "temp.sort_values(by = ['day_of_week'],inplace = True)\n",
    "temp.index = [5,5,1,1,6,6,7,7,4,4,2,2,3,3]\n",
    "temp.sort_index(inplace = True)\n",
    "sns.barplot(x=\"day_of_week\", y=\"normalized_distance\",hue='city',data=temp)\n",
    "plt.title('Vehicle pattern')\n",
    "plt.savefig('Vehicle.png', dpi = 300)\n",
    "plt.show()"
   ]
  },
  {
   "cell_type": "markdown",
   "metadata": {},
   "source": [
    "# type vs Hour"
   ]
  },
  {
   "cell_type": "code",
   "execution_count": 97,
   "metadata": {},
   "outputs": [],
   "source": [
    "def get_time_blocks(time):\n",
    "    if time < 5:\n",
    "        return '0-5'\n",
    "    elif time > 5 and time < 7:\n",
    "        return '5-7'\n",
    "    elif time > 7 and time < 10:\n",
    "        return '7-10'\n",
    "    elif time > 10 and time < 16:\n",
    "        return '10-16'\n",
    "    elif time > 16 and time < 20:\n",
    "        return '16-20'\n",
    "    else:\n",
    "        return '20-24'"
   ]
  },
  {
   "cell_type": "code",
   "execution_count": 98,
   "metadata": {},
   "outputs": [],
   "source": [
    "def time_vs_hour(city):\n",
    "    temp = data_low[data_low.city == city]\n",
    "    temp = temp[['hour','type','normalized_distance']]\n",
    "    temp.type = temp.type.map(mapping_function)\n",
    "    temp.hour = temp.hour.apply(lambda x: get_time_blocks(x))\n",
    "    temp = temp.groupby(['hour','type']).sum().reset_index(drop = False)\n",
    "    temp = temp[temp.type != 'others']\n",
    "    temp.index = [1,1,4,4,5,5,6,6,2,2,3,3]\n",
    "    temp.sort_index(inplace = True)\n",
    "    temp = temp[temp.type != 'others']\n",
    "    sns.barplot(x=\"hour\", y=\"normalized_distance\",hue='type',data=temp)\n",
    "    plt.title(city + ' travel pattern')\n",
    "    plt.savefig(city + '_travel_pattern.png', dpi = 300)\n",
    "    plt.show()"
   ]
  },
  {
   "cell_type": "code",
   "execution_count": 99,
   "metadata": {},
   "outputs": [
    {
     "ename": "ValueError",
     "evalue": "Length mismatch: Expected axis has 8 elements, new values have 12 elements",
     "output_type": "error",
     "traceback": [
      "\u001b[1;31m---------------------------------------------------------------------------\u001b[0m",
      "\u001b[1;31mValueError\u001b[0m                                Traceback (most recent call last)",
      "\u001b[1;32m<ipython-input-99-4905c4513f7d>\u001b[0m in \u001b[0;36m<module>\u001b[1;34m\u001b[0m\n\u001b[1;32m----> 1\u001b[1;33m \u001b[0mtime_vs_hour\u001b[0m\u001b[1;33m(\u001b[0m\u001b[1;34m'FST'\u001b[0m\u001b[1;33m)\u001b[0m\u001b[1;33m\u001b[0m\u001b[1;33m\u001b[0m\u001b[0m\n\u001b[0m",
      "\u001b[1;32m<ipython-input-98-0385e94cae44>\u001b[0m in \u001b[0;36mtime_vs_hour\u001b[1;34m(city)\u001b[0m\n\u001b[0;32m      6\u001b[0m     \u001b[0mtemp\u001b[0m \u001b[1;33m=\u001b[0m \u001b[0mtemp\u001b[0m\u001b[1;33m.\u001b[0m\u001b[0mgroupby\u001b[0m\u001b[1;33m(\u001b[0m\u001b[1;33m[\u001b[0m\u001b[1;34m'hour'\u001b[0m\u001b[1;33m,\u001b[0m\u001b[1;34m'type'\u001b[0m\u001b[1;33m]\u001b[0m\u001b[1;33m)\u001b[0m\u001b[1;33m.\u001b[0m\u001b[0msum\u001b[0m\u001b[1;33m(\u001b[0m\u001b[1;33m)\u001b[0m\u001b[1;33m.\u001b[0m\u001b[0mreset_index\u001b[0m\u001b[1;33m(\u001b[0m\u001b[0mdrop\u001b[0m \u001b[1;33m=\u001b[0m \u001b[1;32mFalse\u001b[0m\u001b[1;33m)\u001b[0m\u001b[1;33m\u001b[0m\u001b[1;33m\u001b[0m\u001b[0m\n\u001b[0;32m      7\u001b[0m     \u001b[0mtemp\u001b[0m \u001b[1;33m=\u001b[0m \u001b[0mtemp\u001b[0m\u001b[1;33m[\u001b[0m\u001b[0mtemp\u001b[0m\u001b[1;33m.\u001b[0m\u001b[0mtype\u001b[0m \u001b[1;33m!=\u001b[0m \u001b[1;34m'others'\u001b[0m\u001b[1;33m]\u001b[0m\u001b[1;33m\u001b[0m\u001b[1;33m\u001b[0m\u001b[0m\n\u001b[1;32m----> 8\u001b[1;33m     \u001b[0mtemp\u001b[0m\u001b[1;33m.\u001b[0m\u001b[0mindex\u001b[0m \u001b[1;33m=\u001b[0m \u001b[1;33m[\u001b[0m\u001b[1;36m1\u001b[0m\u001b[1;33m,\u001b[0m\u001b[1;36m1\u001b[0m\u001b[1;33m,\u001b[0m\u001b[1;36m4\u001b[0m\u001b[1;33m,\u001b[0m\u001b[1;36m4\u001b[0m\u001b[1;33m,\u001b[0m\u001b[1;36m5\u001b[0m\u001b[1;33m,\u001b[0m\u001b[1;36m5\u001b[0m\u001b[1;33m,\u001b[0m\u001b[1;36m6\u001b[0m\u001b[1;33m,\u001b[0m\u001b[1;36m6\u001b[0m\u001b[1;33m,\u001b[0m\u001b[1;36m2\u001b[0m\u001b[1;33m,\u001b[0m\u001b[1;36m2\u001b[0m\u001b[1;33m,\u001b[0m\u001b[1;36m3\u001b[0m\u001b[1;33m,\u001b[0m\u001b[1;36m3\u001b[0m\u001b[1;33m]\u001b[0m\u001b[1;33m\u001b[0m\u001b[1;33m\u001b[0m\u001b[0m\n\u001b[0m\u001b[0;32m      9\u001b[0m     \u001b[0mtemp\u001b[0m\u001b[1;33m.\u001b[0m\u001b[0msort_index\u001b[0m\u001b[1;33m(\u001b[0m\u001b[0minplace\u001b[0m \u001b[1;33m=\u001b[0m \u001b[1;32mTrue\u001b[0m\u001b[1;33m)\u001b[0m\u001b[1;33m\u001b[0m\u001b[1;33m\u001b[0m\u001b[0m\n\u001b[0;32m     10\u001b[0m     \u001b[0mtemp\u001b[0m \u001b[1;33m=\u001b[0m \u001b[0mtemp\u001b[0m\u001b[1;33m[\u001b[0m\u001b[0mtemp\u001b[0m\u001b[1;33m.\u001b[0m\u001b[0mtype\u001b[0m \u001b[1;33m!=\u001b[0m \u001b[1;34m'others'\u001b[0m\u001b[1;33m]\u001b[0m\u001b[1;33m\u001b[0m\u001b[1;33m\u001b[0m\u001b[0m\n",
      "\u001b[1;32m~\\Anaconda3\\lib\\site-packages\\pandas\\core\\generic.py\u001b[0m in \u001b[0;36m__setattr__\u001b[1;34m(self, name, value)\u001b[0m\n\u001b[0;32m   4387\u001b[0m         \u001b[1;32mtry\u001b[0m\u001b[1;33m:\u001b[0m\u001b[1;33m\u001b[0m\u001b[1;33m\u001b[0m\u001b[0m\n\u001b[0;32m   4388\u001b[0m             \u001b[0mobject\u001b[0m\u001b[1;33m.\u001b[0m\u001b[0m__getattribute__\u001b[0m\u001b[1;33m(\u001b[0m\u001b[0mself\u001b[0m\u001b[1;33m,\u001b[0m \u001b[0mname\u001b[0m\u001b[1;33m)\u001b[0m\u001b[1;33m\u001b[0m\u001b[1;33m\u001b[0m\u001b[0m\n\u001b[1;32m-> 4389\u001b[1;33m             \u001b[1;32mreturn\u001b[0m \u001b[0mobject\u001b[0m\u001b[1;33m.\u001b[0m\u001b[0m__setattr__\u001b[0m\u001b[1;33m(\u001b[0m\u001b[0mself\u001b[0m\u001b[1;33m,\u001b[0m \u001b[0mname\u001b[0m\u001b[1;33m,\u001b[0m \u001b[0mvalue\u001b[0m\u001b[1;33m)\u001b[0m\u001b[1;33m\u001b[0m\u001b[1;33m\u001b[0m\u001b[0m\n\u001b[0m\u001b[0;32m   4390\u001b[0m         \u001b[1;32mexcept\u001b[0m \u001b[0mAttributeError\u001b[0m\u001b[1;33m:\u001b[0m\u001b[1;33m\u001b[0m\u001b[1;33m\u001b[0m\u001b[0m\n\u001b[0;32m   4391\u001b[0m             \u001b[1;32mpass\u001b[0m\u001b[1;33m\u001b[0m\u001b[1;33m\u001b[0m\u001b[0m\n",
      "\u001b[1;32mpandas\\_libs\\properties.pyx\u001b[0m in \u001b[0;36mpandas._libs.properties.AxisProperty.__set__\u001b[1;34m()\u001b[0m\n",
      "\u001b[1;32m~\\Anaconda3\\lib\\site-packages\\pandas\\core\\generic.py\u001b[0m in \u001b[0;36m_set_axis\u001b[1;34m(self, axis, labels)\u001b[0m\n\u001b[0;32m    644\u001b[0m \u001b[1;33m\u001b[0m\u001b[0m\n\u001b[0;32m    645\u001b[0m     \u001b[1;32mdef\u001b[0m \u001b[0m_set_axis\u001b[0m\u001b[1;33m(\u001b[0m\u001b[0mself\u001b[0m\u001b[1;33m,\u001b[0m \u001b[0maxis\u001b[0m\u001b[1;33m,\u001b[0m \u001b[0mlabels\u001b[0m\u001b[1;33m)\u001b[0m\u001b[1;33m:\u001b[0m\u001b[1;33m\u001b[0m\u001b[1;33m\u001b[0m\u001b[0m\n\u001b[1;32m--> 646\u001b[1;33m         \u001b[0mself\u001b[0m\u001b[1;33m.\u001b[0m\u001b[0m_data\u001b[0m\u001b[1;33m.\u001b[0m\u001b[0mset_axis\u001b[0m\u001b[1;33m(\u001b[0m\u001b[0maxis\u001b[0m\u001b[1;33m,\u001b[0m \u001b[0mlabels\u001b[0m\u001b[1;33m)\u001b[0m\u001b[1;33m\u001b[0m\u001b[1;33m\u001b[0m\u001b[0m\n\u001b[0m\u001b[0;32m    647\u001b[0m         \u001b[0mself\u001b[0m\u001b[1;33m.\u001b[0m\u001b[0m_clear_item_cache\u001b[0m\u001b[1;33m(\u001b[0m\u001b[1;33m)\u001b[0m\u001b[1;33m\u001b[0m\u001b[1;33m\u001b[0m\u001b[0m\n\u001b[0;32m    648\u001b[0m \u001b[1;33m\u001b[0m\u001b[0m\n",
      "\u001b[1;32m~\\Anaconda3\\lib\\site-packages\\pandas\\core\\internals.py\u001b[0m in \u001b[0;36mset_axis\u001b[1;34m(self, axis, new_labels)\u001b[0m\n\u001b[0;32m   3321\u001b[0m             raise ValueError(\n\u001b[0;32m   3322\u001b[0m                 \u001b[1;34m'Length mismatch: Expected axis has {old} elements, new '\u001b[0m\u001b[1;33m\u001b[0m\u001b[1;33m\u001b[0m\u001b[0m\n\u001b[1;32m-> 3323\u001b[1;33m                 'values have {new} elements'.format(old=old_len, new=new_len))\n\u001b[0m\u001b[0;32m   3324\u001b[0m \u001b[1;33m\u001b[0m\u001b[0m\n\u001b[0;32m   3325\u001b[0m         \u001b[0mself\u001b[0m\u001b[1;33m.\u001b[0m\u001b[0maxes\u001b[0m\u001b[1;33m[\u001b[0m\u001b[0maxis\u001b[0m\u001b[1;33m]\u001b[0m \u001b[1;33m=\u001b[0m \u001b[0mnew_labels\u001b[0m\u001b[1;33m\u001b[0m\u001b[1;33m\u001b[0m\u001b[0m\n",
      "\u001b[1;31mValueError\u001b[0m: Length mismatch: Expected axis has 8 elements, new values have 12 elements"
     ]
    }
   ],
   "source": [
    "time_vs_hour('FST')"
   ]
  },
  {
   "cell_type": "code",
   "execution_count": null,
   "metadata": {},
   "outputs": [],
   "source": [
    "time_vs_hour('Trivandrum')"
   ]
  },
  {
   "cell_type": "code",
   "execution_count": null,
   "metadata": {},
   "outputs": [],
   "source": [
    "def city_vs_hour(typ,title):\n",
    "    temp = data_low[data_low.city.isin(['Bangalore','Trivandrum'])]\n",
    "    temp.type = temp.type.map(mapping_function)\n",
    "    temp = temp[temp.type == typ]\n",
    "    temp = temp[['hour','city','normalized_distance']]\n",
    "    temp.hour = temp.hour.apply(lambda x: get_time_blocks(x))\n",
    "    temp = temp.groupby(['hour','city']).sum().reset_index(drop = False)\n",
    "    temp.index = [1,1,4,4,5,5,6,6,2,2,3,3]\n",
    "    temp.sort_index(inplace = True)\n",
    "    sns.barplot(x=\"hour\", y=\"normalized_distance\",hue='city',data=temp)\n",
    "    plt.title(title)\n",
    "    plt.savefig(title +'.png', dpi = 300)\n",
    "    plt.show()"
   ]
  },
  {
   "cell_type": "code",
   "execution_count": null,
   "metadata": {},
   "outputs": [],
   "source": [
    "city_vs_hour('vehicle',title = 'Vehicle Usage Pattern')"
   ]
  },
  {
   "cell_type": "code",
   "execution_count": null,
   "metadata": {},
   "outputs": [],
   "source": [
    "city_vs_hour('walk',title = 'Walking Patterns')"
   ]
  },
  {
   "cell_type": "code",
   "execution_count": null,
   "metadata": {},
   "outputs": [],
   "source": [
    "plt.hist(data_large.normalized_distance)\n",
    "plt.show()"
   ]
  }
 ],
 "metadata": {
  "kernelspec": {
   "display_name": "Python 3",
   "language": "python",
   "name": "python3"
  },
  "language_info": {
   "codemirror_mode": {
    "name": "ipython",
    "version": 3
   },
   "file_extension": ".py",
   "mimetype": "text/x-python",
   "name": "python",
   "nbconvert_exporter": "python",
   "pygments_lexer": "ipython3",
   "version": "3.7.1"
  }
 },
 "nbformat": 4,
 "nbformat_minor": 2
}
